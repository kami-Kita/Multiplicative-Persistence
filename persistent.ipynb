{
  "nbformat": 4,
  "nbformat_minor": 0,
  "metadata": {
    "colab": {
      "name": "persistent.ipynb",
      "version": "0.3.2",
      "provenance": [],
      "include_colab_link": true
    },
    "kernelspec": {
      "name": "python3",
      "display_name": "Python 3"
    }
  },
  "cells": [
    {
      "cell_type": "markdown",
      "metadata": {
        "id": "view-in-github",
        "colab_type": "text"
      },
      "source": [
        "<a href=\"https://colab.research.google.com/github/kami-Kita/Multiplicative-Persistence/blob/master/persistent.ipynb\" target=\"_parent\"><img src=\"https://colab.research.google.com/assets/colab-badge.svg\" alt=\"Open In Colab\"/></a>"
      ]
    },
    {
      "metadata": {
        "id": "PuoCo-EsbOx-",
        "colab_type": "code",
        "colab": {}
      },
      "cell_type": "code",
      "source": [
        "import time"
      ],
      "execution_count": 0,
      "outputs": []
    },
    {
      "metadata": {
        "id": "HLoHwpnPa8PC",
        "colab_type": "code",
        "colab": {}
      },
      "cell_type": "code",
      "source": [
        "def checkper(n, steps=0):\n",
        "    if len(str(n)) == 1:\n",
        "        return n, steps #final result and number of steps\n",
        "    num = list(str(n))\n",
        "    mul = 1\n",
        "    for i in num:\n",
        "        mul *= int(i)\n",
        "    steps += 1\n",
        "    return checkper(mul, steps)\n",
        "\n",
        "def checkAscending(n):\n",
        "    num = [int(i) for i in str(n)]\n",
        "    if sorted(num) == num:\n",
        "        return True\n",
        "    return False\n",
        "\n",
        "def checkTrivial(n):\n",
        "    n = str(n)\n",
        "    c = {'0':0,'1':0,'2':0,'3':0,'4':0,'5':0,'6':0,'7':0,'8':0,'9':0}\n",
        "    for i in n:\n",
        "        c[i] += 1\n",
        "    if c['1']>=1:\n",
        "        return False\n",
        "    elif c['2'] >= 2:\n",
        "        return False\n",
        "    elif c['3'] >= 2:\n",
        "        return False\n",
        "    elif (c['2'] == 1 and (c['3']==1 or c['4']==1)):\n",
        "        return False\n",
        "    return True"
      ],
      "execution_count": 0,
      "outputs": []
    },
    {
      "metadata": {
        "id": "PipkdXOtbF0_",
        "colab_type": "code",
        "colab": {}
      },
      "cell_type": "code",
      "source": [
        "n=1\n",
        "data = {}\n",
        "t1 = time.time()\n",
        "while True:\n",
        "    if checkAscending(n) and checkTrivial(n):\n",
        "        result, steps = checkper(n)\n",
        "        if steps in data.keys():\n",
        "            n+=1\n",
        "            continue\n",
        "        else:\n",
        "            data[steps] = [n, time.time()-t1]\n",
        "    if len(data.keys()) >= 9:\n",
        "        break\n",
        "    n+=1"
      ],
      "execution_count": 0,
      "outputs": []
    },
    {
      "metadata": {
        "id": "BG1cuj24kxFy",
        "colab_type": "code",
        "colab": {
          "base_uri": "https://localhost:8080/",
          "height": 35
        },
        "outputId": "9781121b-039d-4fe8-fb62-6db349f74aa0"
      },
      "cell_type": "code",
      "source": [
        "(time.time()-t1)/60"
      ],
      "execution_count": 25,
      "outputs": [
        {
          "output_type": "execute_result",
          "data": {
            "text/plain": [
              "1.399976166089376"
            ]
          },
          "metadata": {
            "tags": []
          },
          "execution_count": 25
        }
      ]
    },
    {
      "metadata": {
        "id": "iOmtw2aXC1VJ",
        "colab_type": "code",
        "colab": {
          "base_uri": "https://localhost:8080/",
          "height": 181
        },
        "outputId": "8709e693-eb61-4ce5-be40-1bbb10e62266"
      },
      "cell_type": "code",
      "source": [
        "data"
      ],
      "execution_count": 26,
      "outputs": [
        {
          "output_type": "execute_result",
          "data": {
            "text/plain": [
              "{0: [2, 0.0001327991485595703],\n",
              " 2: [25, 0.0002086162567138672],\n",
              " 3: [39, 0.00028324127197265625],\n",
              " 4: [77, 0.0006363391876220703],\n",
              " 5: [679, 0.002430438995361328],\n",
              " 6: [6788, 0.01763629913330078],\n",
              " 7: [68889, 0.18065261840820312],\n",
              " 8: [2677889, 7.6735546588897705],\n",
              " 9: [26888999, 83.9932873249054]}"
            ]
          },
          "metadata": {
            "tags": []
          },
          "execution_count": 26
        }
      ]
    },
    {
      "metadata": {
        "id": "95OowRE3C_MY",
        "colab_type": "code",
        "colab": {}
      },
      "cell_type": "code",
      "source": [
        ""
      ],
      "execution_count": 0,
      "outputs": []
    }
  ]
}